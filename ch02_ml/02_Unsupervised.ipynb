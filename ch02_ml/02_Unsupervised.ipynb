{
 "cells": [
  {
   "cell_type": "code",
   "execution_count": 1,
   "metadata": {},
   "outputs": [],
   "source": [
    "import pandas as pd\n",
    "from sklearn.cluster import KMeans"
   ]
  },
  {
   "cell_type": "code",
   "execution_count": 4,
   "metadata": {},
   "outputs": [],
   "source": [
    "# csv 파일을 읽고 레코드를 출력한다. \n",
    "features = pd.read_csv('../data/house_price.csv')"
   ]
  },
  {
   "cell_type": "code",
   "execution_count": 5,
   "metadata": {},
   "outputs": [
    {
     "data": {
      "text/html": [
       "<div>\n",
       "<style scoped>\n",
       "    .dataframe tbody tr th:only-of-type {\n",
       "        vertical-align: middle;\n",
       "    }\n",
       "\n",
       "    .dataframe tbody tr th {\n",
       "        vertical-align: top;\n",
       "    }\n",
       "\n",
       "    .dataframe thead th {\n",
       "        text-align: right;\n",
       "    }\n",
       "</style>\n",
       "<table border=\"1\" class=\"dataframe\">\n",
       "  <thead>\n",
       "    <tr style=\"text-align: right;\">\n",
       "      <th></th>\n",
       "      <th>Area</th>\n",
       "      <th>Locality</th>\n",
       "      <th>Price</th>\n",
       "    </tr>\n",
       "  </thead>\n",
       "  <tbody>\n",
       "    <tr>\n",
       "      <th>0</th>\n",
       "      <td>100</td>\n",
       "      <td>4</td>\n",
       "      <td>30</td>\n",
       "    </tr>\n",
       "    <tr>\n",
       "      <th>1</th>\n",
       "      <td>250</td>\n",
       "      <td>5</td>\n",
       "      <td>80</td>\n",
       "    </tr>\n",
       "    <tr>\n",
       "      <th>2</th>\n",
       "      <td>220</td>\n",
       "      <td>5</td>\n",
       "      <td>80</td>\n",
       "    </tr>\n",
       "    <tr>\n",
       "      <th>3</th>\n",
       "      <td>105</td>\n",
       "      <td>6</td>\n",
       "      <td>40</td>\n",
       "    </tr>\n",
       "    <tr>\n",
       "      <th>4</th>\n",
       "      <td>260</td>\n",
       "      <td>6</td>\n",
       "      <td>60</td>\n",
       "    </tr>\n",
       "    <tr>\n",
       "      <th>5</th>\n",
       "      <td>150</td>\n",
       "      <td>8</td>\n",
       "      <td>100</td>\n",
       "    </tr>\n",
       "    <tr>\n",
       "      <th>6</th>\n",
       "      <td>180</td>\n",
       "      <td>9</td>\n",
       "      <td>120</td>\n",
       "    </tr>\n",
       "    <tr>\n",
       "      <th>7</th>\n",
       "      <td>225</td>\n",
       "      <td>4</td>\n",
       "      <td>60</td>\n",
       "    </tr>\n",
       "    <tr>\n",
       "      <th>8</th>\n",
       "      <td>95</td>\n",
       "      <td>5</td>\n",
       "      <td>40</td>\n",
       "    </tr>\n",
       "    <tr>\n",
       "      <th>9</th>\n",
       "      <td>160</td>\n",
       "      <td>9</td>\n",
       "      <td>110</td>\n",
       "    </tr>\n",
       "  </tbody>\n",
       "</table>\n",
       "</div>"
      ],
      "text/plain": [
       "   Area  Locality  Price\n",
       "0   100         4     30\n",
       "1   250         5     80\n",
       "2   220         5     80\n",
       "3   105         6     40\n",
       "4   260         6     60\n",
       "5   150         8    100\n",
       "6   180         9    120\n",
       "7   225         4     60\n",
       "8    95         5     40\n",
       "9   160         9    110"
      ]
     },
     "execution_count": 5,
     "metadata": {},
     "output_type": "execute_result"
    }
   ],
   "source": [
    "features.head(10)"
   ]
  },
  {
   "cell_type": "markdown",
   "metadata": {},
   "source": [
    "이제 K-평균 알고리즘을 적용해 데이터셋들을 군집으로 분할하고 각 레코드를  \n",
    "특정 군집에 할당한다.  \n",
    "이 알고리즘을 독립변수 또는 X들(면적 및 입지)에 적용할 것이다.  \n",
    "목적은 군집화 알고리즘이 패턴을 찾을 수 있는지 알아보는 것이며, "
   ]
  },
  {
   "cell_type": "markdown",
   "metadata": {},
   "source": [
    "그러면 이 패턴들을 가격과 연관지을 것이다.  \n",
    "여기서는 Y값으로 알고리즘을 지도하지 않는다.  \n",
    "이 사례는 비지도학습의 예이다. "
   ]
  },
  {
   "cell_type": "code",
   "execution_count": 6,
   "metadata": {},
   "outputs": [
    {
     "name": "stderr",
     "output_type": "stream",
     "text": [
      "/Users/com/anaconda3/envs/env-keras/lib/python3.9/site-packages/sklearn/cluster/_kmeans.py:1412: FutureWarning: The default value of `n_init` will change from 10 to 'auto' in 1.4. Set the value of `n_init` explicitly to suppress the warning\n",
      "  super()._check_params_vs_input(X, default_n_init=10)\n"
     ]
    },
    {
     "data": {
      "text/html": [
       "<div>\n",
       "<style scoped>\n",
       "    .dataframe tbody tr th:only-of-type {\n",
       "        vertical-align: middle;\n",
       "    }\n",
       "\n",
       "    .dataframe tbody tr th {\n",
       "        vertical-align: top;\n",
       "    }\n",
       "\n",
       "    .dataframe thead th {\n",
       "        text-align: right;\n",
       "    }\n",
       "</style>\n",
       "<table border=\"1\" class=\"dataframe\">\n",
       "  <thead>\n",
       "    <tr style=\"text-align: right;\">\n",
       "      <th></th>\n",
       "      <th>Area</th>\n",
       "      <th>Locality</th>\n",
       "      <th>Price</th>\n",
       "      <th>cluster</th>\n",
       "    </tr>\n",
       "  </thead>\n",
       "  <tbody>\n",
       "    <tr>\n",
       "      <th>0</th>\n",
       "      <td>100</td>\n",
       "      <td>4</td>\n",
       "      <td>30</td>\n",
       "      <td>0</td>\n",
       "    </tr>\n",
       "    <tr>\n",
       "      <th>1</th>\n",
       "      <td>250</td>\n",
       "      <td>5</td>\n",
       "      <td>80</td>\n",
       "      <td>1</td>\n",
       "    </tr>\n",
       "    <tr>\n",
       "      <th>2</th>\n",
       "      <td>220</td>\n",
       "      <td>5</td>\n",
       "      <td>80</td>\n",
       "      <td>1</td>\n",
       "    </tr>\n",
       "    <tr>\n",
       "      <th>3</th>\n",
       "      <td>105</td>\n",
       "      <td>6</td>\n",
       "      <td>40</td>\n",
       "      <td>0</td>\n",
       "    </tr>\n",
       "    <tr>\n",
       "      <th>4</th>\n",
       "      <td>260</td>\n",
       "      <td>6</td>\n",
       "      <td>60</td>\n",
       "      <td>1</td>\n",
       "    </tr>\n",
       "    <tr>\n",
       "      <th>5</th>\n",
       "      <td>150</td>\n",
       "      <td>8</td>\n",
       "      <td>100</td>\n",
       "      <td>2</td>\n",
       "    </tr>\n",
       "    <tr>\n",
       "      <th>6</th>\n",
       "      <td>180</td>\n",
       "      <td>9</td>\n",
       "      <td>120</td>\n",
       "      <td>2</td>\n",
       "    </tr>\n",
       "    <tr>\n",
       "      <th>7</th>\n",
       "      <td>225</td>\n",
       "      <td>4</td>\n",
       "      <td>60</td>\n",
       "      <td>1</td>\n",
       "    </tr>\n",
       "    <tr>\n",
       "      <th>8</th>\n",
       "      <td>95</td>\n",
       "      <td>5</td>\n",
       "      <td>40</td>\n",
       "      <td>0</td>\n",
       "    </tr>\n",
       "    <tr>\n",
       "      <th>9</th>\n",
       "      <td>160</td>\n",
       "      <td>9</td>\n",
       "      <td>110</td>\n",
       "      <td>2</td>\n",
       "    </tr>\n",
       "  </tbody>\n",
       "</table>\n",
       "</div>"
      ],
      "text/plain": [
       "   Area  Locality  Price  cluster\n",
       "0   100         4     30        0\n",
       "1   250         5     80        1\n",
       "2   220         5     80        1\n",
       "3   105         6     40        0\n",
       "4   260         6     60        1\n",
       "5   150         8    100        2\n",
       "6   180         9    120        2\n",
       "7   225         4     60        1\n",
       "8    95         5     40        0\n",
       "9   160         9    110        2"
      ]
     },
     "execution_count": 6,
     "metadata": {},
     "output_type": "execute_result"
    }
   ],
   "source": [
    "# k-평균 알고리즘 \n",
    "from sklearn.cluster import KMeans\n",
    "\n",
    "# 2개의 특성만 이용애 패턴이 있는 지 확인한다. \n",
    "cluster_Xs = features[['Area', 'Locality']]\n",
    "\n",
    "# 원하는 군집 수 \n",
    "NUM_CLUSTERS = 3\n",
    "\n",
    "# K-평균 군집화 모델 구축 \n",
    "model = KMeans(n_clusters = NUM_CLUSTERS)\n",
    "model.fit(cluster_Xs)\n",
    "\n",
    "# 예측해 군집 레이블 0, 1, 2 ,,, NUM_CLUSTERS를 구한다. \n",
    "predictions = model.predict(cluster_Xs)\n",
    "\n",
    "# 예측값을 특성들의 데이터프레임에 추가 \n",
    "features['cluster'] = predictions\n",
    "features.head(10)"
   ]
  },
  {
   "cell_type": "markdown",
   "metadata": {},
   "source": [
    "앞의 도표에서 봤던 세 군집에 해당하는 점들의 그룹들이 보인다.  \n",
    "면적 및 입지의 특정 조합을 갖는 주택들이 군집 0, 1, 2로 표시됐다.  \n",
    "우리의 뇌가 시각적 보조 도구(도표)를 보고 알 수 있는 로직을 군집화 알고리즘 혼자서 판독해냈다.  "
   ]
  },
  {
   "cell_type": "markdown",
   "metadata": {},
   "source": [
    "이 데이터셋은 매우 간단하고 제한적인 것이였다.  \n",
    "현실에서 수천 개의 데이터와 수백 개의 특성이 있는 경우,  \n",
    "관찰만으로는 이러한 패턴을 찾아내기가 어렵다. "
   ]
  },
  {
   "cell_type": "markdown",
   "metadata": {},
   "source": [
    "군집화 알고리즘은 복잡한 데이터에서 패턴을 빠르게 찾아낼 수 있다.  \n",
    "이제 군집 값에 대해서 결과를 정렬해 가격에 대한 어떤 관계를 발견했는지 보자."
   ]
  },
  {
   "cell_type": "code",
   "execution_count": 7,
   "metadata": {},
   "outputs": [
    {
     "name": "stdout",
     "output_type": "stream",
     "text": [
      "   Area  Locality  Price  cluster\n",
      "0   100         4     30        0\n",
      "3   105         6     40        0\n",
      "8    95         5     40        0\n",
      "1   250         5     80        1\n",
      "2   220         5     80        1\n",
      "4   260         6     60        1\n",
      "7   225         4     60        1\n",
      "5   150         8    100        2\n",
      "6   180         9    120        2\n",
      "9   160         9    110        2\n"
     ]
    }
   ],
   "source": [
    "features_sorted = features.sort_values('cluster')\n",
    "print(features_sorted)"
   ]
  },
  {
   "cell_type": "markdown",
   "metadata": {},
   "source": [
    "한 군집 재의 집들은 비슷한 가격 구조를 갖는다는 것을 알 수 있다.  \n",
    "k-평균 알고리즘은 면적 및 입지를 사용해 데이터 내의 변동성을 알아내고 데이터를 여러 그룹으로 정리했다.  \n",
    "이 그룹들은 세 번째 값인 가격에 대해서 같은 변동성을 나타낸다.  \n",
    "현실에서는 이와 같이 깔끔하게 분리되는 경우가 거의 없을 것이다.  "
   ]
  },
  {
   "cell_type": "markdown",
   "metadata": {},
   "source": [
    "군집의 수 k와 같은 여러 가지 파라미터로 실험하고 어떤 조합이 가장 좋은 결과를 내는 지를 조사해야 한다. "
   ]
  },
  {
   "cell_type": "markdown",
   "metadata": {},
   "source": [
    "이 사례에서는 군집의 수를 고정된 값으로 알고리즘에 넘겨주며 이것은 알고리즘이 학습하는 것이 아니다.  \n",
    "이 파라미터를 머신러닝에서는 하이퍼파라미터 라고 한다. "
   ]
  },
  {
   "cell_type": "markdown",
   "metadata": {},
   "source": [
    "하이퍼파라미터는 보통 사용하는 알고리즘에 따라 그 종류가 달라진다.  "
   ]
  }
 ],
 "metadata": {
  "kernelspec": {
   "display_name": "env-keras",
   "language": "python",
   "name": "python3"
  },
  "language_info": {
   "codemirror_mode": {
    "name": "ipython",
    "version": 3
   },
   "file_extension": ".py",
   "mimetype": "text/x-python",
   "name": "python",
   "nbconvert_exporter": "python",
   "pygments_lexer": "ipython3",
   "version": "3.9.17"
  },
  "orig_nbformat": 4
 },
 "nbformat": 4,
 "nbformat_minor": 2
}
