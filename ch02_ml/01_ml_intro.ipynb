{
 "cells": [
  {
   "cell_type": "markdown",
   "id": "94c2f06f222d2a7",
   "metadata": {
    "collapsed": false
   },
   "source": [
    "## 머신러닝 기법의 유형 "
   ]
  },
  {
   "cell_type": "markdown",
   "id": "3c44978371b303b1",
   "metadata": {
    "collapsed": false
   },
   "source": [
    "머신러닝은 세 가지 유형으로 분류할 수 있다. "
   ]
  },
  {
   "cell_type": "markdown",
   "id": "e28dc8a1",
   "metadata": {},
   "source": [
    "### 비지도학습 "
   ]
  },
  {
   "cell_type": "markdown",
   "id": "b65f1eec",
   "metadata": {},
   "source": [
    "분석을 통해 예상되는 결과들에 대한 데이터가 전혀 없다.  \n",
    "패턴을 찾는 더 전통적인 접근법이며 데이터가 얘기하고자 하는 것을 찾아내는 것  \n",
    "데이터셋 내의 포괄적인 패턴을 찾는 데 사용되며 다음과 같은 세 가지 범주로 나눌 수 있다. "
   ]
  },
  {
   "cell_type": "markdown",
   "id": "1b2fd284",
   "metadata": {},
   "source": [
    "#### 군집화 = 클러스터링"
   ]
  },
  {
   "cell_type": "markdown",
   "id": "c03bde48",
   "metadata": {},
   "source": [
    "데이터셋을 비슷한 성질을 갖는 군집/집단으로 나누는 것  \n",
    "여러 특성(feature 또는 열)에서 데이터 변동을 기반으로,  \n",
    "어떤 점들이 서로 유사한 지 판단하고 그들을 동일한 군집에 넣는 것 "
   ]
  },
  {
   "cell_type": "markdown",
   "id": "58471158",
   "metadata": {},
   "source": [
    "k-means 알고리즘 :  \n",
    "군집 수 k를 설정하면  \n",
    "각 군집의 중심에서 점까지의 거리에 의해 점들을 각 군집에 할당함으로써 최적의 군집을 찾아낸다.  "
   ]
  },
  {
   "cell_type": "markdown",
   "id": "8b785045",
   "metadata": {},
   "source": [
    "DBSCAN :  \n",
    "k-평균처럼 군집 수를 지정할 필요가 없다.  \n",
    "특성 공간(feature space)에서 점들의 밀독가 높은 영역들을 찾는다.  "
   ]
  },
  {
   "cell_type": "markdown",
   "id": "a8809259",
   "metadata": {},
   "source": [
    "계층적 군집화 / t-SNE 등의 군집화 기법이 있다. "
   ]
  },
  {
   "cell_type": "markdown",
   "id": "75c0c2c5",
   "metadata": {},
   "source": [
    "#### 차원 축소"
   ]
  },
  {
   "cell_type": "markdown",
   "id": "2ac9301f",
   "metadata": {},
   "source": [
    "데이터셋에서 특성(또는 열)의 수를 줄이는 것  \n",
    "특성이 너무 많으면 다루거나 시각화하기 어렵다.  \n",
    "중요하지 않은 특성들에 노력을 들이게 될 수 있다. "
   ]
  },
  {
   "cell_type": "markdown",
   "id": "4f1f8e02",
   "metadata": {},
   "source": [
    "남은 특성들 간의 변동을 포착해 유지하면서 데이터셋의 특성 수를 줄이려는 것이다.  \n",
    "그러므로 만일 한 환자의 어떤 측정값이 다른 환자의 측정값과 다른 경우,  \n",
    "차원을 축소하더라도 두 환자 간의 측정값의 차이는 동등할 것이다.  "
   ]
  },
  {
   "cell_type": "markdown",
   "id": "767364d2",
   "metadata": {},
   "source": [
    "수백 개의 특성이 있는 데이터셋을 분석해 얻은 결과는  \n",
    "그 데이터셋의 차원을 축소해 얻은 적은 수의 특성으로 분석한 결과와 같아야 한다.  "
   ]
  },
  {
   "cell_type": "markdown",
   "id": "0091c606",
   "metadata": {},
   "source": [
    "주성분 분석(PCA) :  \n",
    "데이터셋의 특성들 간의 변동성을 포착하는 것  \n",
    "주성분들로 된 새로운 데이터셋으로 변환  \n",
    "특성들 간의 최대 변동성 포착 -> 그 다음으로 큰 변동성 포착 -> ,,,  \n",
    "주성분끼리는 서로 독립이다. "
   ]
  },
  {
   "cell_type": "markdown",
   "id": "4dce79c1",
   "metadata": {},
   "source": [
    "변동성의 대부분을 설명하는 상위 두 세개의 주성분을 골라낼 수 있다.  \n",
    "이 두세개의 특성들로 분석하면 다루기 용이해진다. "
   ]
  },
  {
   "cell_type": "markdown",
   "id": "ea9befbe",
   "metadata": {},
   "source": [
    "PCA의 또다른 용도 = 데이터를 숨기는 것  \n",
    "데이터가 원래 형식에서 완전히 변환되므로, 제3자에게 데이터를 넘겨줄 때  \n",
    "원래의 특성들을 숨기는 데 이용할 수 있다. "
   ]
  },
  {
   "cell_type": "markdown",
   "id": "8777fd44",
   "metadata": {},
   "source": [
    "### 이상 탐지 "
   ]
  },
  {
   "cell_type": "markdown",
   "id": "ef991450",
   "metadata": {},
   "source": [
    "평균과 표준편차를 이용한 간단한 통계 개산을 통해 데이터 내의 이상치를 찾아내는 것  \n",
    "평균에서부터 편차 이상으로 떨어진 값은 이상치의 신호가 될 수 있다.  \n",
    "좀 더 복잡한 이상 탐지에서는 전후 관계를 고려한다. "
   ]
  },
  {
   "cell_type": "markdown",
   "id": "ea5df25b",
   "metadata": {},
   "source": [
    "더 복잡한 이상 탐지에는 앞에서 배웠던 군집화 같은 기법들이 사용된다.  \n",
    "모든 점들을 소속된 군집 중심으로부터의 거리로 표현한 다음, 그 거리를 기반으로  \n",
    "데이터를 한 개의 군집으로 모을 수 있다.  \n",
    "거리는 데이터셋의 모든 특성들을 고려해 계산되므로 상당히 복잡하다. "
   ]
  },
  {
   "cell_type": "markdown",
   "id": "338fb4e9",
   "metadata": {},
   "source": [
    "만일 새로운 데이터가 중앙에서 멀리 있다면, 그 점은 이상치로 처리될 것이다. "
   ]
  },
  {
   "cell_type": "markdown",
   "id": "f7a5065b",
   "metadata": {},
   "source": [
    "### 지도 학습 "
   ]
  },
  {
   "cell_type": "markdown",
   "id": "850990bd",
   "metadata": {},
   "source": [
    "지도학습에서는 레이블이 달린 데이터를 모델에 제공해 모델이 학습하는 것을 지도한다.  \n",
    "레이블 달린 데이터는 특성의 각 점들에 대한 출력(Y)의 예상값들을 포함하고 있다."
   ]
  },
  {
   "cell_type": "markdown",
   "id": "256208d0",
   "metadata": {},
   "source": [
    "지도학습으로 생성되는 머신러닝 모델은 기본적으로 X들과 Y 간의 관계이다.  \n",
    "이 매핑을 제공해주는 함수 또는 관계를 모델이라 한다.  \n",
    "모델에 X값들을 공급하면, 모델은 특정 입력들에 대한 Y를 예측할 것이다. "
   ]
  },
  {
   "cell_type": "markdown",
   "id": "1e9e92a8",
   "metadata": {},
   "source": [
    "처음 모델을 정의하고 가중치를 초기화하면, "
   ]
  }
 ],
 "metadata": {
  "kernelspec": {
   "display_name": "Python 3",
   "language": "python",
   "name": "python3"
  },
  "language_info": {
   "codemirror_mode": {
    "name": "ipython",
    "version": 2
   },
   "file_extension": ".py",
   "mimetype": "text/x-python",
   "name": "python",
   "nbconvert_exporter": "python",
   "pygments_lexer": "ipython2",
   "version": "3.9.17"
  }
 },
 "nbformat": 4,
 "nbformat_minor": 5
}
