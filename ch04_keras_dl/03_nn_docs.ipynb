{
 "cells": [
  {
   "cell_type": "markdown",
   "metadata": {},
   "source": [
    "### 교차 검증  "
   ]
  },
  {
   "cell_type": "markdown",
   "metadata": {},
   "source": [
    "새로운 모델을 만들 때는 항상 별도로 분리된 훈련 데이터셋과 검증 데이터셋을 사용해  \n",
    "각 데이터셋에 대한 모델의 정확도를 구해야 한다.  \n",
    "= 교차검증 이라 한다. "
   ]
  },
  {
   "cell_type": "markdown",
   "metadata": {},
   "source": [
    "**K-겹 교차검증(k-fold cross validation)** "
   ]
  },
  {
   "cell_type": "markdown",
   "metadata": {},
   "source": [
    "전체 데이터셋을 k개의 그룹으로 나눈 후, 각 반복에서 k개의 그룹 중 하나는  \n",
    "검증 셋으로 사용하고,  \n",
    "나머지 데이터는 훈련용으로 계속 사용하는 것 "
   ]
  },
  {
   "cell_type": "markdown",
   "metadata": {},
   "source": [
    "이와 같은 방법으로는, 모델이 학습하면서 보지 못한 데이터를 계속 바꿔 주며  \n",
    "시간이 지나면 모델이 더욱 효과적이게끔 해 준다. "
   ]
  },
  {
   "cell_type": "markdown",
   "metadata": {},
   "source": [
    "과적합 = 훈련 데이터만 가진 큰 분산을 학습하면서 검증 데이터로 옮겨가지 못하는 것  \n",
    "-> 더 많은 훈련 데이터가 필요하다.  "
   ]
  },
  {
   "cell_type": "markdown",
   "metadata": {},
   "source": [
    "규제화 또는 드롭아웃과 같은 과적합 방지와 같은 기법을 사용할 수도 있다. "
   ]
  },
  {
   "cell_type": "markdown",
   "metadata": {},
   "source": [
    "### 규제화 "
   ]
  },
  {
   "cell_type": "markdown",
   "metadata": {},
   "source": [
    "신경망의 가중치들이 너무 훈련 데이터에 특정적으로 되어 가고 있기 때문에 과적합이 발생  \n",
    "-> 비용 함수에 가중치를 포함하는 특별한 항을 부가함으로써 신경망이 빠르게 수렴하지 않도록 하는 것 "
   ]
  },
  {
   "cell_type": "markdown",
   "metadata": {},
   "source": [
    "가중치에 페널티를 부가해 훈련 데이터셋에 과적합하지 않고 좀 더 포괄적으로 되도록 하는 것 "
   ]
  },
  {
   "cell_type": "markdown",
   "metadata": {},
   "source": [
    "### 드롭아웃 "
   ]
  },
  {
   "cell_type": "markdown",
   "metadata": {},
   "source": [
    "훈련 과정에서 층의 뉴런들을 일정 비율로 무작위로 배제시키고 나머지 부분으로 훈련한다.  \n",
    "이 방법은, 어떤 뉴런들이 늑정 입력에 묶이는 것을 방지함으로써 신경망의 과적합을 방지하는 데 도움을 준다.  "
   ]
  },
  {
   "cell_type": "markdown",
   "metadata": {},
   "source": [
    "메번 어떤 훈련 반복(iteration)이나 에포크(epoch)마다 무작위로 선택된 뉴런들이 제거되므로  \n",
    "신경망은 어떤 특정 훈련 데이터나 뉴런들에 의존적이지 않은 패턴들을 학습하도록 강요받게 된다. "
   ]
  }
 ],
 "metadata": {
  "language_info": {
   "name": "python"
  },
  "orig_nbformat": 4
 },
 "nbformat": 4,
 "nbformat_minor": 2
}
