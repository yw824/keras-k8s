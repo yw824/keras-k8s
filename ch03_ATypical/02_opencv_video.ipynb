{
 "cells": [
  {
   "cell_type": "markdown",
   "metadata": {},
   "source": [
    "## 동영상 다루기 "
   ]
  },
  {
   "cell_type": "markdown",
   "metadata": {},
   "source": [
    "동영상은 기본적으로 이미지를 시간적으로 나열한 것이다. "
   ]
  },
  {
   "cell_type": "markdown",
   "metadata": {},
   "source": [
    "동영상은 이미지 데이터의 시계열 같은 것이다.  \n",
    "특정 시간의 프레임들을 추출해 일반적인 컴퓨터 비전 또는 머신 러닝 알고리즘으로 처리한다.  \n",
    "이 모든 이미지들을 시퀀스로 저장하면 동영상 파일이 매우 커질 것이다. "
   ]
  },
  {
   "cell_type": "markdown",
   "metadata": {},
   "source": [
    "이미지 저장 형식(jpeg, gif, png) 등이 픽셀 배열들을 2진 형식으로 압축하는 것과 마찬가지로,  \n",
    "동영상 코덱은 동영상을 만드는 이미지 시퀀스를 압축한다. "
   ]
  },
  {
   "cell_type": "markdown",
   "metadata": {},
   "source": [
    "코덱과 함께 동영상에는 사용되는 컨테이너 유형에 대한 규격이 있다. 이것을 형식(format)이라고도 한다.  \n",
    "컨테이너에는 해당 코덱으로 인코딩되는 동영상 파일의 콘텐츠가 저장된다.  \n",
    "많이 사용되는 컨테이너 형식은 mp4, avi, mkv 등이 있다. "
   ]
  },
  {
   "cell_type": "markdown",
   "metadata": {},
   "source": [
    "모든 mp4 파일이 동일한 코덱으로 인코딩되는 것은 아니다.  \n",
    "어떤 것은 특별한 코덱이 필요하며, 따라서 파일 확장명은 .mp4로 같아도 특별한 코덱을 내려받아야 할 수도 있다. "
   ]
  },
  {
   "cell_type": "markdown",
   "metadata": {},
   "source": [
    "때로는 컨테이너가 스트리밍을 위한 것일 수도 있다.  \n",
    "여기서도 유사한 코덱이 사용되며, 콘텐츠가 스트리밍일 뿐이다.  \n",
    "이것이 유튜브나 넷플릭스가 콘텐츠를 전달하는 방법이다. "
   ]
  },
  {
   "cell_type": "markdown",
   "metadata": {},
   "source": [
    "opencv 같은 컴퓨터 비전 라이브러리는 이러한 동영상 파일을 디코딩해 동영상을 추출하기 위한 코덱을 지원한다.  \n",
    "opencv는 카메라와 같은 소스에서 나오는 라이브 스트림에 연결해 동영상을 추출할 수도 있다. "
   ]
  },
  {
   "cell_type": "code",
   "execution_count": null,
   "metadata": {
    "vscode": {
     "languageId": "plaintext"
    }
   },
   "outputs": [],
   "source": [
    "import cv2 \n",
    "# 비디오 캡처 객체 열기\n",
    "cap = cv2.VideoCapture('sample_video.mp4')\n",
    "\n",
    "# 프레임 카운터 \n",
    "counter = 0\n",
    "\n",
    "# while the video file is open\n",
    "while cap.isOpened():\n",
    "    # 프레임 읽기\n",
    "    ret, frame = cap.read()\n",
    "\n",
    "    # 프레임 수를 표시\n",
    "    counter += 1\n",
    "    print(counter)\n",
    "\n",
    "    # 프레임을 grayscale로 변환 \n",
    "    new_frame = cv2.cvtColot(frame, cv2.COLOR_RGB2GRAY)\n",
    "\n",
    "    # 30프레임마다 화면에 출력 \n",
    "    if counter % 30 == 0:\n",
    "        plt.imshow(new_frame)\n",
    "        plt.show()\n",
    "    \n",
    "# 열었던 비디오 캡처 객체를 해제 \n",
    "cap.release()"
   ]
  }
 ],
 "metadata": {
  "language_info": {
   "name": "python"
  },
  "orig_nbformat": 4
 },
 "nbformat": 4,
 "nbformat_minor": 2
}
