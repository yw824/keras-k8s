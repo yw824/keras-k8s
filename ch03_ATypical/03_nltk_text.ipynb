{
 "cells": [
  {
   "cell_type": "markdown",
   "metadata": {},
   "source": [
    "#### 패키지 "
   ]
  },
  {
   "cell_type": "code",
   "execution_count": 1,
   "metadata": {},
   "outputs": [],
   "source": [
    "import nltk"
   ]
  },
  {
   "cell_type": "markdown",
   "metadata": {},
   "source": [
    "## 텍스트 데이터 다루기"
   ]
  },
  {
   "cell_type": "markdown",
   "metadata": {},
   "source": [
    "검색 질의를 입력하면 해당 사이트의 알고리즘은 내가 그 제품, 항목에 관심이 있다는 것을 학습한다.  \n",
    "유사한 제품, 동영상 등을 나에게 제공한다.  \n",
    "구글, 페이스북, 트위터 같은 회사들에게 광고는 주요 수입원 중 하나이다. "
   ]
  },
  {
   "cell_type": "markdown",
   "metadata": {},
   "source": [
    "많은 양의 텍스트를 지속적으로 분석해 고객의 라이프스타일에 관한 가치 있는 정보를 추출한다.  \n",
    "대부분 이 정보는 데이터마이닝해서 가치 있는 통찰을 추출할 수 있는 제3자에게 매도된다.  \n",
    "텍스트 마이닝은 진보된 자연어 처리 알고리즘(=NLP)를 사용해 텍스트에서 가치를 추출하려고 하는 회사들에서 수행된다. "
   ]
  },
  {
   "cell_type": "markdown",
   "metadata": {},
   "source": [
    "텍스트 데이터의 또다른 분석 예는, 챗봇이다.  \n",
    "챗봇은 고객이 묻는 것을 이해하고 정확히 응답할 수 있을 만큼 지적이여야 한다.  \n",
    "많은 온라인 직원 서비스가 챗봇을 채택하고 있으며, 상대방은 이쪽이 사람이 아니라는 사실조차도 모르고 있을 수 있다. "
   ]
  }
 ],
 "metadata": {
  "kernelspec": {
   "display_name": "env-keras",
   "language": "python",
   "name": "python3"
  },
  "language_info": {
   "codemirror_mode": {
    "name": "ipython",
    "version": 3
   },
   "file_extension": ".py",
   "mimetype": "text/x-python",
   "name": "python",
   "nbconvert_exporter": "python",
   "pygments_lexer": "ipython3",
   "version": "3.9.17"
  },
  "orig_nbformat": 4
 },
 "nbformat": 4,
 "nbformat_minor": 2
}
